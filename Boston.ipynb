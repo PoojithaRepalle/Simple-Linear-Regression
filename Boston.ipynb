{
  "nbformat": 4,
  "nbformat_minor": 0,
  "metadata": {
    "colab": {
      "provenance": []
    },
    "kernelspec": {
      "name": "python3",
      "display_name": "Python 3"
    },
    "language_info": {
      "name": "python"
    }
  },
  "cells": [
    {
      "cell_type": "code",
      "execution_count": 6,
      "metadata": {
        "id": "Am4usBzpdY8f"
      },
      "outputs": [],
      "source": [
        "import numpy as np\n",
        "import pandas as pd\n",
        "from sklearn.datasets import fetch_california_housing\n",
        "from sklearn.linear_model import LinearRegression, SGDRegressor\n",
        "from sklearn.model_selection import train_test_split\n",
        "from sklearn.metrics import mean_squared_error, r2_score\n",
        "from sklearn.model_selection import train_test_split\n",
        "\n",
        "\n",
        "# Load the California Housing dataset\n",
        "housing_data = fetch_california_housing()\n",
        "features = housing_data.data\n",
        "target_prices = housing_data.target\n",
        "\n",
        "\n"
      ]
    },
    {
      "cell_type": "code",
      "source": [
        "# Split the dataset into training and testing sets\n",
        "X_train, X_test, Y_train, Y_test = train_test_split(features, target_prices, test_size=0.2, random_state=42)\n"
      ],
      "metadata": {
        "id": "KG_VcYAJdssT"
      },
      "execution_count": 7,
      "outputs": []
    },
    {
      "cell_type": "code",
      "source": [
        "# Full-Batch Gradient Descent (Using LinearRegression from sklearn)\n",
        "linear_regressor = LinearRegression()\n",
        "linear_regressor.fit(X_train, Y_train)\n",
        "Y_pred_full_batch = linear_regressor.predict(X_test)\n",
        "\n",
        "# Stochastic Gradient Descent (Using SGDRegressor from sklearn)\n",
        "sgd_regressor = SGDRegressor(max_iter=1000, tol=1e-3, random_state=42)\n",
        "sgd_regressor.fit(X_train, Y_train)\n",
        "Y_pred_sgd = sgd_regressor.predict(X_test)\n",
        "\n",
        "# Calculate Mean Squared Error (MSE) and R² score for both methods\n",
        "mse_full_batch = mean_squared_error(Y_test, Y_pred_full_batch)\n",
        "mse_sgd = mean_squared_error(Y_test, Y_pred_sgd)\n",
        "r2_full_batch = r2_score(Y_test, Y_pred_full_batch)\n",
        "r2_sgd = r2_score(Y_test, Y_pred_sgd)\n",
        "\n",
        "# Print the results for comparison\n",
        "print(\"Full-Batch Gradient Descent Mean Squared Error:\", mse_full_batch)\n",
        "print(\"Stochastic Gradient Descent Mean Squared Error:\", mse_sgd)\n",
        "print(\"Full-Batch Gradient Descent R² Score:\", r2_full_batch)\n",
        "print(\"Stochastic Gradient Descent R² Score:\", r2_sgd)\n",
        "\n",
        "# Check model coefficients (weights)\n",
        "print(\"\\nLinear Regression Coefficients (Full-Batch GD):\", linear_regressor.coef_)\n",
        "print(\"SGD Regression Coefficients (Stochastic GD):\", sgd_regressor.coef_)\n",
        "\n",
        "# Optionally, print intercepts\n",
        "print(\"\\nLinear Regression Intercept (Full-Batch GD):\", linear_regressor.intercept_)\n",
        "print(\"SGD Regression Intercept (Stochastic GD):\", sgd_regressor.intercept_)"
      ],
      "metadata": {
        "colab": {
          "base_uri": "https://localhost:8080/"
        },
        "id": "uj5n83a-dw6S",
        "outputId": "0a96f520-0516-4fd3-8393-fc36bd673eed"
      },
      "execution_count": 4,
      "outputs": [
        {
          "output_type": "stream",
          "name": "stdout",
          "text": [
            "Full-Batch Gradient Descent Mean Squared Error: 0.5558915986952422\n",
            "Stochastic Gradient Descent Mean Squared Error: 3.125598638710681e+28\n",
            "Full-Batch Gradient Descent R² Score: 0.5757877060324524\n",
            "Stochastic Gradient Descent R² Score: -2.385208504070616e+28\n",
            "\n",
            "Linear Regression Coefficients (Full-Batch GD): [ 4.48674910e-01  9.72425752e-03 -1.23323343e-01  7.83144907e-01\n",
            " -2.02962058e-06 -3.52631849e-03 -4.19792487e-01 -4.33708065e-01]\n",
            "SGD Regression Coefficients (Stochastic GD): [ 3.70725899e+11 -1.39996413e+11 -8.06617673e+10 -1.82802082e+10\n",
            "  5.53523872e+10 -3.54217051e+10  2.47104127e+11 -6.79713288e+11]\n",
            "\n",
            "Linear Regression Intercept (Full-Batch GD): -37.02327770606391\n",
            "SGD Regression Intercept (Stochastic GD): [2.74752632e+09]\n"
          ]
        }
      ]
    }
  ]
}